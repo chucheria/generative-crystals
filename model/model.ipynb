{
 "cells": [
  {
   "cell_type": "code",
   "execution_count": 2,
   "metadata": {},
   "outputs": [],
   "source": [
    "import tensorflow as tf\n",
    "import os"
   ]
  },
  {
   "cell_type": "code",
   "execution_count": 14,
   "metadata": {},
   "outputs": [],
   "source": [
    "WIDTH = 128\n",
    "HEIGHT = 128\n",
    "CHANNEL = 3\n",
    "EPOCH = 1\n",
    "BATCH_SIZE = 64\n",
    "\n",
    "size = [HEIGHT, WIDTH]"
   ]
  },
  {
   "cell_type": "code",
   "execution_count": 4,
   "metadata": {},
   "outputs": [],
   "source": [
    "current_dir = os.getcwd()\n",
    "data_dir = os.path.join(current_dir, '..', 'data')\n",
    "\n",
    "version = 'new_cristals'\n",
    "new_path = './' + version"
   ]
  },
  {
   "cell_type": "code",
   "execution_count": 9,
   "metadata": {},
   "outputs": [],
   "source": [
    "def process_data(data_dir):\n",
    "    images = []\n",
    "    for image in os.listdir(data_dir):\n",
    "        images.append(os.path.join(data_dir, image))\n",
    "        \n",
    "    all_images = tf.convert_to_tensor(images, dtype=tf.string)\n",
    "    #images_qeue = tf.train.slice_input_producer([all_images])\n",
    "    content = tf.read_file(all_images)\n",
    "    image = tf.image.decode_jpeg(all_images, channels = CHANNEL)\n",
    "    \n",
    "    content = tf.data.Dataset.from_tensor_slices(tuple([all_images])))\n",
    "    \n",
    "    \n",
    "        "
   ]
  },
  {
   "cell_type": "code",
   "execution_count": null,
   "metadata": {},
   "outputs": [],
   "source": []
  },
  {
   "cell_type": "code",
   "execution_count": null,
   "metadata": {},
   "outputs": [],
   "source": []
  }
 ],
 "metadata": {
  "kernelspec": {
   "display_name": "Python 3",
   "language": "python",
   "name": "python3"
  },
  "language_info": {
   "codemirror_mode": {
    "name": "ipython",
    "version": 3
   },
   "file_extension": ".py",
   "mimetype": "text/x-python",
   "name": "python",
   "nbconvert_exporter": "python",
   "pygments_lexer": "ipython3",
   "version": "3.7.3"
  }
 },
 "nbformat": 4,
 "nbformat_minor": 2
}
